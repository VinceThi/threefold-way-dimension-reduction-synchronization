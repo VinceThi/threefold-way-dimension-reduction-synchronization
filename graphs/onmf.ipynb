{
 "cells": [
  {
   "cell_type": "markdown",
   "metadata": {},
   "source": [
    "### NMF\n",
    "Factorize the nonnegative matrix $X$ as $X = WH$, where both $W$ and $H$ are nonnegative\n",
    "\n",
    "### ONMF\n",
    "Factorize the nonnegative matrix $X$ as $X = WH$, where both $W$ and $H$ are nonnegative and the rows of $H$ are orthogonal, i.e., $HH^T = I$.\n",
    "\n",
    "\n",
    "### Refs\n",
    "1. Lee, D. D., & Seung, H. S. (2001). Algorithms for non-negative matrix factorization. In Advances in neural information processing systems (pp. 556-562).\n",
    "\n",
    "2. Choi, S. (2008, June). Algorithms for orthogonal nonnegative matrix factorization. In 2008 ieee international joint conference on neural networks (ieee world congress on computational intelligence) (pp. 1828-1832). IEEE.\n",
    "\n",
    "3. Wang, Y. X., & Zhang, Y. J. (2012). Nonnegative matrix factorization: A comprehensive review. IEEE Transactions on Knowledge and Data Engineering, 25(6), 1336-1353.\n",
    "\n",
    "### Warning\n",
    "The codes here work for nonnegative matrices only.  For the case with negative elements, see snmf.py at https://github.com/nils-werner/pymf"
   ]
  },
  {
   "cell_type": "markdown",
   "metadata": {},
   "source": [
    "### Codes"
   ]
  },
  {
   "cell_type": "code",
   "execution_count": 3,
   "metadata": {},
   "outputs": [],
   "source": [
    "import numpy as np\n",
    "import matplotlib.pyplot as plt\n",
    "\n",
    "def nmf(X, max_iter=1000, H_init=None, W_init=None):\n",
    "        \"\"\"\n",
    "        Non-negative Matrix Factorization of X as X =WH.  \n",
    "        Based on Ref. 1 and https://github.com/mstrazar/iONMF\n",
    "        ----------\n",
    "        Input\n",
    "        ----------\n",
    "        X: array [m x n]\n",
    "            Data matrix to be factorized.\n",
    "        max_iter: int\n",
    "            Maximum number of iterations.\n",
    "        H_init: array [m x m]\n",
    "            Fixed initial basis matrix.\n",
    "        W_init: array [m x n]\n",
    "            Fixed initial coefficient matrix.\n",
    "        ---------\n",
    "        Output\n",
    "        ---------\n",
    "        W: array [m x m]\n",
    "        H: array [m x n] \n",
    "        error: ||X-WH||\n",
    "        \"\"\"\n",
    "\n",
    "        m, n = X.shape\n",
    "        W = np.random.rand(m, m) if isinstance(W_init, type(None)) else W_init\n",
    "        H = np.random.rand(m, n) if isinstance(H_init, type(None)) else H_init\n",
    "\n",
    "        for itr in range(max_iter):\n",
    "            # update H\n",
    "            numerator = (W.T).dot(X)\n",
    "            denominator = (W.T).dot(W.dot(H))\n",
    "            H = np.nan_to_num(H * numerator/denominator)\n",
    "            # update W\n",
    "            numerator = X.dot(H.T)\n",
    "            denominator = W.dot(H.dot(H.T))\n",
    "            W = np.nan_to_num(W * numerator/denominator)\n",
    "               \n",
    "        error = np.linalg.norm( X-W.dot(H)) # error with Frobenius norm\n",
    "        return W, H, error\n",
    "    \n",
    "    \n",
    "    \n",
    "def onmf(X, max_iter=2000, H_init=None, W_init=None):\n",
    "        \"\"\"\n",
    "        Orthogonal Non-negative Matrix Factorization of X as X =WH wit HH^T=I.  \n",
    "        Based on Ref. 3 and https://github.com/mstrazar/iONMF\n",
    "        ----------\n",
    "        Input\n",
    "        ----------\n",
    "        X: array [m x n]\n",
    "            Data matrix to be factorized.\n",
    "        max_iter: int\n",
    "            Maximum number of iterations.\n",
    "        H_init: array [m x m]\n",
    "            Fixed initial basis matrix.\n",
    "        W_init: array [m x n]\n",
    "            Fixed initial coefficient matrix.\n",
    "        MoreOrtho: Boolean \n",
    "            If True, searches for a matrix H with more zeros \n",
    "        ---------\n",
    "        Output\n",
    "        ---------\n",
    "        W: array [m x m]\n",
    "        H: array [m x n] \n",
    "        error: ||X-WH||\n",
    "            factorization error\n",
    "        o_error:  ||I-HH^T||\n",
    "            orthogonality error\n",
    "        \"\"\"\n",
    "\n",
    "        m, n = X.shape\n",
    "        W = np.random.rand(m, m) if isinstance(W_init, type(None)) else W_init\n",
    "        H = np.random.rand(m, n) if isinstance(H_init, type(None)) else H_init\n",
    "\n",
    "        for itr in range(max_iter):\n",
    "            # update H\n",
    "            numerator = (W.T).dot(X)\n",
    "            denominator = H.dot((X.T).dot(W.dot(H)))\n",
    "            H = np.nan_to_num(H * numerator/denominator)\n",
    "            \n",
    "            # newline added to get orthonormalized rows\n",
    "            row_norm = np.sqrt(np.diag(H.dot(H.T)))\n",
    "            normalization_matrix = np.linalg.inv(np.diag(row_norm))\n",
    "            H = normalization_matrix.dot(H)     \n",
    "\n",
    "            \n",
    "            # update W\n",
    "            numerator = X.dot(H.T)\n",
    "            denominator = W.dot(H.dot(H.T))\n",
    "            W = np.nan_to_num(W * numerator/denominator)\n",
    "               \n",
    "        error = np.linalg.norm(X-W.dot(H)) # error with Frobenius norm\n",
    "        o_error = np.linalg.norm(np.eye(m,m)-H.dot(H.T)) # orthogonality error with Frobenius norm\n",
    "        return W, H, error, o_error"
   ]
  },
  {
   "cell_type": "markdown",
   "metadata": {},
   "source": [
    "### Examples\n",
    "\n",
    "#### NMF with random initialization"
   ]
  },
  {
   "cell_type": "code",
   "execution_count": 4,
   "metadata": {},
   "outputs": [
    {
     "name": "stdout",
     "output_type": "stream",
     "text": [
      "0.0001065904822459669\n"
     ]
    },
    {
     "data": {
      "image/png": "[encoded data removed]",
      "text/plain": [
       "<Figure size 432x288 with 2 Axes>"
      ]
     },
     "metadata": {
      "needs_background": "light"
     },
     "output_type": "display_data"
    }
   ],
   "source": [
    "X = np.array([[2,2,1,1,1,0,0],[1,1,2,2,2,1,1], [0,0,1,1,1,2,2]])\n",
    "W,H,e = nmf(X)\n",
    "print(e)\n",
    "fig = plt.figure()\n",
    "ax = fig.add_subplot(111)\n",
    "cax = ax.matshow(H)\n",
    "fig.colorbar(cax)\n",
    "plt.show()"
   ]
  },
  {
   "cell_type": "markdown",
   "metadata": {},
   "source": [
    "#### NMF with inittial matrix based on SVD"
   ]
  },
  {
   "cell_type": "code",
   "execution_count": 5,
   "metadata": {},
   "outputs": [
    {
     "name": "stdout",
     "output_type": "stream",
     "text": [
      "0.012569523098450266\n"
     ]
    },
    {
     "data": {
      "image/png": "[encoded data removed]",
      "text/plain": [
       "<Figure size 432x288 with 2 Axes>"
      ]
     },
     "metadata": {
      "needs_background": "light"
     },
     "output_type": "display_data"
    }
   ],
   "source": [
    "m,n = X.shape\n",
    "# SVD\n",
    "u,s,vh = np.linalg.svd(X)\n",
    "# Initial matrix H\n",
    "h_init= abs(vh[0:m,:])\n",
    "# NMF\n",
    "W,H,e = nmf(X, H_init = h_init)\n",
    "\n",
    "print(e)\n",
    "\n",
    "fig = plt.figure()\n",
    "ax = fig.add_subplot(111)\n",
    "cax = ax.matshow(H)\n",
    "fig.colorbar(cax)\n",
    "plt.show()"
   ]
  },
  {
   "cell_type": "code",
   "execution_count": 6,
   "metadata": {},
   "outputs": [
    {
     "name": "stdout",
     "output_type": "stream",
     "text": [
      "[[2.46394952e+00 2.46394952e+00 8.81964071e-01 8.81964071e-01\n",
      "  8.81964071e-01 4.80779354e-25 4.80779354e-25]\n",
      " [2.34806247e-18 2.34806247e-18 1.41270776e-15 1.20283756e-15\n",
      "  1.20283756e-15 1.66932520e+00 1.66932520e+00]\n",
      " [3.40795667e-03 3.40795667e-03 1.42146287e+00 1.42146287e+00\n",
      "  1.42146287e+00 4.27946302e-02 4.27946302e-02]]\n"
     ]
    }
   ],
   "source": [
    "print(H)"
   ]
  },
  {
   "cell_type": "markdown",
   "metadata": {},
   "source": [
    "#### ONMF with random initialization"
   ]
  },
  {
   "cell_type": "code",
   "execution_count": 7,
   "metadata": {},
   "outputs": [
    {
     "name": "stdout",
     "output_type": "stream",
     "text": [
      "0.0023045863937339807\n",
      "0.002155912080934298\n"
     ]
    },
    {
     "data": {
      "image/png": "[encoded data removed]",
      "text/plain": [
       "<Figure size 432x288 with 2 Axes>"
      ]
     },
     "metadata": {
      "needs_background": "light"
     },
     "output_type": "display_data"
    }
   ],
   "source": [
    "X = np.array([[2,2,1,1,1,0,0],[1,1,2,2,2,1,1], [0,0,1,1,1,2,2]])\n",
    "\n",
    "W,H,e,oe = onmf(X)\n",
    "\n",
    "print(e)\n",
    "print(oe)\n",
    "\n",
    "fig = plt.figure()\n",
    "ax = fig.add_subplot(111)\n",
    "cax = ax.matshow(H)\n",
    "fig.colorbar(cax)\n",
    "plt.show()"
   ]
  },
  {
   "cell_type": "code",
   "execution_count": 8,
   "metadata": {},
   "outputs": [
    {
     "data": {
      "text/plain": [
       "array([[1.00000000e+00, 2.40811767e-09, 1.08381855e-03],\n",
       "       [2.40811767e-09, 1.00000000e+00, 1.07206147e-03],\n",
       "       [1.08381855e-03, 1.07206147e-03, 1.00000000e+00]])"
      ]
     },
     "execution_count": 8,
     "metadata": {},
     "output_type": "execute_result"
    }
   ],
   "source": [
    "H.dot(H.T)"
   ]
  },
  {
   "cell_type": "markdown",
   "metadata": {},
   "source": [
    "#### ONMF with inittial matrix based on SVD"
   ]
  },
  {
   "cell_type": "code",
   "execution_count": 9,
   "metadata": {},
   "outputs": [
    {
     "name": "stdout",
     "output_type": "stream",
     "text": [
      "0.0019825095293155644\n",
      "0.001951194960647573\n",
      "3 7\n"
     ]
    },
    {
     "data": {
      "image/png": "[encoded data removed]",
      "text/plain": [
       "<Figure size 432x288 with 2 Axes>"
      ]
     },
     "metadata": {
      "needs_background": "light"
     },
     "output_type": "display_data"
    }
   ],
   "source": [
    "m,n = X.shape\n",
    "# SVD\n",
    "u,s,vh = np.linalg.svd(X)\n",
    "# Initial matrix H\n",
    "h_init= abs(vh[0:m,:])\n",
    "# NMF\n",
    "W,H,e,oe = onmf(X, H_init = h_init)\n",
    "\n",
    "print(e)\n",
    "print(oe)\n",
    "print(m, n)\n",
    "\n",
    "fig = plt.figure()\n",
    "ax = fig.add_subplot(111)\n",
    "cax = ax.matshow(H)\n",
    "fig.colorbar(cax)\n",
    "plt.show()"
   ]
  },
  {
   "cell_type": "code",
   "execution_count": 66,
   "metadata": {},
   "outputs": [
    {
     "data": {
      "text/plain": [
       "array([1., 1., 1.])"
      ]
     },
     "execution_count": 66,
     "metadata": {},
     "output_type": "execute_result"
    }
   ],
   "source": [
    "D=np.diag(H.dot(H.T))\n",
    "D"
   ]
  },
  {
   "cell_type": "code",
   "execution_count": 46,
   "metadata": {},
   "outputs": [],
   "source": [
    "HH=np.sqrt(np.diag(1/D)).dot(H)"
   ]
  },
  {
   "cell_type": "code",
   "execution_count": 47,
   "metadata": {},
   "outputs": [
    {
     "data": {
      "text/plain": [
       "array([[1.00000000e+00, 1.13218001e-03, 1.14769536e-03],\n",
       "       [1.13218001e-03, 1.00000000e+00, 1.10392230e-17],\n",
       "       [1.14769536e-03, 1.10392230e-17, 1.00000000e+00]])"
      ]
     },
     "execution_count": 47,
     "metadata": {},
     "output_type": "execute_result"
    }
   ],
   "source": [
    "HH.dot(HH.T)"
   ]
  },
  {
   "cell_type": "code",
   "execution_count": null,
   "metadata": {},
   "outputs": [],
   "source": []
  }
 ],
 "metadata": {
  "kernelspec": {
   "display_name": "Python 3",
   "language": "python",
   "name": "python3"
  },
  "language_info": {
   "codemirror_mode": {
    "name": "ipython",
    "version": 3
   },
   "file_extension": ".py",
   "mimetype": "text/x-python",
   "name": "python",
   "nbconvert_exporter": "python",
   "pygments_lexer": "ipython3",
   "version": "3.6.7"
  }
 },
 "nbformat": 4,
 "nbformat_minor": 2
}
